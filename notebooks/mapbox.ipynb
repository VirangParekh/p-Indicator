{
 "metadata": {
  "language_info": {
   "codemirror_mode": {
    "name": "ipython",
    "version": 3
   },
   "file_extension": ".py",
   "mimetype": "text/x-python",
   "name": "python",
   "nbconvert_exporter": "python",
   "pygments_lexer": "ipython3",
   "version": "3.8.6-final"
  },
  "orig_nbformat": 2,
  "kernelspec": {
   "name": "python38232bit427e2d07ed5640dd8b544e9901fb36b1",
   "display_name": "Python 3.8.2 32-bit"
  }
 },
 "nbformat": 4,
 "nbformat_minor": 2,
 "cells": [
  {
   "source": [
    "# Token requirements\n",
    "- mapbox needs a access token\n",
    "- every user gets a new token\n",
    "- so on every new sign up fire up a token creation process"
   ],
   "cell_type": "markdown",
   "metadata": {}
  },
  {
   "cell_type": "code",
   "execution_count": 7,
   "metadata": {},
   "outputs": [],
   "source": [
    "#imports\n",
    "import requests"
   ]
  },
  {
   "cell_type": "code",
   "execution_count": 13,
   "metadata": {},
   "outputs": [],
   "source": [
    "default_token = 'pk.eyJ1IjoidmlyYW5ncCIsImEiOiJjazV0dm1rMmQxM2E3M25tcWpiOWZxaXA4In0.oSLVtJ1f0wOuOFgW9jwEWA'\n",
    "base_url = 'https://api.mapbox.com/geocoding/v5/'"
   ]
  },
  {
   "cell_type": "code",
   "execution_count": 14,
   "metadata": {},
   "outputs": [],
   "source": [
    "lat_str = '-77.050'\n",
    "long_str = '38.889'"
   ]
  },
  {
   "cell_type": "code",
   "execution_count": 15,
   "metadata": {},
   "outputs": [
    {
     "output_type": "stream",
     "name": "stdout",
     "text": [
      "https://api.mapbox.com/geocoding/v5/mapbox.places/-77.050,38.889.json?access_token=pk.eyJ1IjoidmlyYW5ncCIsImEiOiJjazV0dm1rMmQxM2E3M25tcWpiOWZxaXA4In0.oSLVtJ1f0wOuOFgW9jwEWA\n"
     ]
    },
    {
     "output_type": "execute_result",
     "data": {
      "text/plain": [
       "{'type': 'FeatureCollection',\n",
       " 'query': [-77.05, 38.889],\n",
       " 'features': [{'id': 'poi.721554568070',\n",
       "   'type': 'Feature',\n",
       "   'place_type': ['poi'],\n",
       "   'relevance': 1,\n",
       "   'properties': {'foursquare': '568d37cb498edb4fbca1d310',\n",
       "    'landmark': True,\n",
       "    'category': 'hiking, trailhead, hike, hiking trailhead'},\n",
       "   'text': 'November Project',\n",
       "   'place_name': 'November Project, Washington, District of Columbia 20024, United States',\n",
       "   'center': [-77.049909, 38.889029],\n",
       "   'geometry': {'coordinates': [-77.049909, 38.889029], 'type': 'Point'},\n",
       "   'context': [{'id': 'neighborhood.295198', 'text': 'National Mall'},\n",
       "    {'id': 'postcode.4419139247733840', 'text': '20024'},\n",
       "    {'id': 'place.7673410831246050', 'wikidata': 'Q61', 'text': 'Washington'},\n",
       "    {'id': 'region.14064402149979320',\n",
       "     'wikidata': 'Q3551781',\n",
       "     'short_code': 'US-DC',\n",
       "     'text': 'District of Columbia'},\n",
       "    {'id': 'country.19678805456372290',\n",
       "     'wikidata': 'Q30',\n",
       "     'short_code': 'us',\n",
       "     'text': 'United States'}]},\n",
       "  {'id': 'neighborhood.295198',\n",
       "   'type': 'Feature',\n",
       "   'place_type': ['neighborhood'],\n",
       "   'relevance': 1,\n",
       "   'properties': {},\n",
       "   'text': 'National Mall',\n",
       "   'place_name': 'National Mall, Washington, District of Columbia 20024, United States',\n",
       "   'bbox': [-77.056852, 38.8788473, -77.0140495, 38.893034],\n",
       "   'center': [-77.02, 38.89],\n",
       "   'geometry': {'type': 'Point', 'coordinates': [-77.02, 38.89]},\n",
       "   'context': [{'id': 'postcode.4419139247733840', 'text': '20024'},\n",
       "    {'id': 'place.7673410831246050', 'wikidata': 'Q61', 'text': 'Washington'},\n",
       "    {'id': 'region.14064402149979320',\n",
       "     'wikidata': 'Q3551781',\n",
       "     'short_code': 'US-DC',\n",
       "     'text': 'District of Columbia'},\n",
       "    {'id': 'country.19678805456372290',\n",
       "     'wikidata': 'Q30',\n",
       "     'short_code': 'us',\n",
       "     'text': 'United States'}]},\n",
       "  {'id': 'postcode.4419139247733840',\n",
       "   'type': 'Feature',\n",
       "   'place_type': ['postcode'],\n",
       "   'relevance': 1,\n",
       "   'properties': {},\n",
       "   'text': '20024',\n",
       "   'place_name': 'Washington, District of Columbia 20024, United States',\n",
       "   'bbox': [-77.0644108917888,\n",
       "    38.8501751868964,\n",
       "    -77.0036921626302,\n",
       "    38.8928826270284],\n",
       "   'center': [-77.03, 38.89],\n",
       "   'geometry': {'type': 'Point', 'coordinates': [-77.03, 38.89]},\n",
       "   'context': [{'id': 'place.7673410831246050',\n",
       "     'wikidata': 'Q61',\n",
       "     'text': 'Washington'},\n",
       "    {'id': 'region.14064402149979320',\n",
       "     'wikidata': 'Q3551781',\n",
       "     'short_code': 'US-DC',\n",
       "     'text': 'District of Columbia'},\n",
       "    {'id': 'country.19678805456372290',\n",
       "     'wikidata': 'Q30',\n",
       "     'short_code': 'us',\n",
       "     'text': 'United States'}]},\n",
       "  {'id': 'place.7673410831246050',\n",
       "   'type': 'Feature',\n",
       "   'place_type': ['place'],\n",
       "   'relevance': 1,\n",
       "   'properties': {'wikidata': 'Q61'},\n",
       "   'text': 'Washington',\n",
       "   'place_name': 'Washington, District of Columbia, United States',\n",
       "   'bbox': [-77.1197609567342, 38.79155738, -76.909391, 38.99555093],\n",
       "   'center': [-77.0366, 38.895],\n",
       "   'geometry': {'type': 'Point', 'coordinates': [-77.0366, 38.895]},\n",
       "   'context': [{'id': 'region.14064402149979320',\n",
       "     'wikidata': 'Q3551781',\n",
       "     'short_code': 'US-DC',\n",
       "     'text': 'District of Columbia'},\n",
       "    {'id': 'country.19678805456372290',\n",
       "     'wikidata': 'Q30',\n",
       "     'short_code': 'us',\n",
       "     'text': 'United States'}]},\n",
       "  {'id': 'region.14064402149979320',\n",
       "   'type': 'Feature',\n",
       "   'place_type': ['region'],\n",
       "   'relevance': 1,\n",
       "   'properties': {'wikidata': 'Q3551781', 'short_code': 'US-DC'},\n",
       "   'text': 'District of Columbia',\n",
       "   'place_name': 'District of Columbia, United States',\n",
       "   'bbox': [-77.1197599992841,\n",
       "    38.7916440321685,\n",
       "    -76.9093920049609,\n",
       "    38.9958459990043],\n",
       "   'center': [-77.03667, 38.895],\n",
       "   'geometry': {'type': 'Point', 'coordinates': [-77.03667, 38.895]},\n",
       "   'context': [{'id': 'country.19678805456372290',\n",
       "     'wikidata': 'Q30',\n",
       "     'short_code': 'us',\n",
       "     'text': 'United States'}]},\n",
       "  {'id': 'country.19678805456372290',\n",
       "   'type': 'Feature',\n",
       "   'place_type': ['country'],\n",
       "   'relevance': 1,\n",
       "   'properties': {'wikidata': 'Q30', 'short_code': 'us'},\n",
       "   'text': 'United States',\n",
       "   'place_name': 'United States',\n",
       "   'bbox': [-179.9, 18.8163608007951, -66.8847646185949, 71.4202919997506],\n",
       "   'center': [-97.9222112121185, 39.3812661305678],\n",
       "   'geometry': {'type': 'Point',\n",
       "    'coordinates': [-97.9222112121185, 39.3812661305678]}}],\n",
       " 'attribution': 'NOTICE: © 2020 Mapbox and its suppliers. All rights reserved. Use of this data is subject to the Mapbox Terms of Service (https://www.mapbox.com/about/maps/). This response and the information it contains may not be retained. POI(s) provided by Foursquare.'}"
      ]
     },
     "metadata": {},
     "execution_count": 15
    }
   ],
   "source": [
    "#places near a specific location\n",
    "final_url = base_url + 'mapbox.places/' + lat_str + ',' + long_str + '.json?access_token='+default_token\n",
    "print(final_url)\n",
    "nearby_places = requests.get(final_url)\n",
    "nearby_places.json()"
   ]
  },
  {
   "cell_type": "code",
   "execution_count": 18,
   "metadata": {},
   "outputs": [
    {
     "output_type": "stream",
     "name": "stdout",
     "text": [
      "https://api.mapbox.com/geocoding/v5/mapbox.places/-77.050,38.889.json?types=poi&access_token=pk.eyJ1IjoidmlyYW5ncCIsImEiOiJjazV0dm1rMmQxM2E3M25tcWpiOWZxaXA4In0.oSLVtJ1f0wOuOFgW9jwEWA\n"
     ]
    },
    {
     "output_type": "execute_result",
     "data": {
      "text/plain": [
       "{'type': 'FeatureCollection',\n",
       " 'query': [-77.05, 38.889],\n",
       " 'features': [{'id': 'poi.721554568070',\n",
       "   'type': 'Feature',\n",
       "   'place_type': ['poi'],\n",
       "   'relevance': 1,\n",
       "   'properties': {'foursquare': '568d37cb498edb4fbca1d310',\n",
       "    'landmark': True,\n",
       "    'category': 'hiking, trailhead, hike, hiking trailhead'},\n",
       "   'text': 'November Project',\n",
       "   'place_name': 'November Project, Washington, District of Columbia 20024, United States',\n",
       "   'center': [-77.049909, 38.889029],\n",
       "   'geometry': {'coordinates': [-77.049909, 38.889029], 'type': 'Point'},\n",
       "   'context': [{'id': 'neighborhood.295198', 'text': 'National Mall'},\n",
       "    {'id': 'postcode.4419139247733840', 'text': '20024'},\n",
       "    {'id': 'place.7673410831246050', 'wikidata': 'Q61', 'text': 'Washington'},\n",
       "    {'id': 'region.14064402149979320',\n",
       "     'wikidata': 'Q3551781',\n",
       "     'short_code': 'US-DC',\n",
       "     'text': 'District of Columbia'},\n",
       "    {'id': 'country.19678805456372290',\n",
       "     'wikidata': 'Q30',\n",
       "     'short_code': 'us',\n",
       "     'text': 'United States'}]}],\n",
       " 'attribution': 'NOTICE: © 2020 Mapbox and its suppliers. All rights reserved. Use of this data is subject to the Mapbox Terms of Service (https://www.mapbox.com/about/maps/). This response and the information it contains may not be retained. POI(s) provided by Foursquare.'}"
      ]
     },
     "metadata": {},
     "execution_count": 18
    }
   ],
   "source": [
    "#include only a POI\n",
    "poi_url = base_url + 'mapbox.places/' + lat_str + ',' + long_str + '.json?types=poi&access_token='+ default_token\n",
    "print(poi_url)\n",
    "nearby_places_poi = requests.get(poi_url)\n",
    "nearby_places_poi.json()"
   ]
  },
  {
   "source": [
    "# Results\n",
    "- Figured working of mapbox api\n",
    "- Work on the Token creation\n",
    "- Discuss what is needed and how to go about requests"
   ],
   "cell_type": "markdown",
   "metadata": {}
  },
  {
   "cell_type": "code",
   "execution_count": null,
   "metadata": {},
   "outputs": [],
   "source": []
  }
 ]
}
